{
  "cells": [
    {
      "cell_type": "markdown",
      "metadata": {},
      "source": [
        "# **Stock Price Prediction**"
      ]
    },
    {
      "cell_type": "markdown",
      "metadata": {
        "id": "oRxXozoc95gs"
      },
      "source": [
        "Importing *Libraries*"
      ]
    },
    {
      "cell_type": "code",
      "execution_count": 2,
      "metadata": {
        "id": "pMW2qB6L3E8b"
      },
      "outputs": [],
      "source": [
        "import numpy as np\n",
        "import pandas as pd\n",
        "from sklearn.preprocessing import MinMaxScaler\n",
        "from tensorflow.keras.models import Sequential\n",
        "from tensorflow.keras.layers import Dense, LSTM\n",
        "import matplotlib.pyplot as plt"
      ]
    },
    {
      "cell_type": "markdown",
      "metadata": {
        "id": "YwP4K9Xo99wS"
      },
      "source": [
        "Reading Stock *Dataset*"
      ]
    },
    {
      "cell_type": "code",
      "execution_count": 5,
      "metadata": {
        "id": "er76-giP3GSL"
      },
      "outputs": [],
      "source": [
        "df = pd.read_csv(\"WIPRO_stock_dataset.csv\")"
      ]
    },
    {
      "cell_type": "markdown",
      "metadata": {
        "id": "4ViBkfJB-C5V"
      },
      "source": [
        "Extracting \"Close\" Column"
      ]
    },
    {
      "cell_type": "code",
      "execution_count": 6,
      "metadata": {},
      "outputs": [
        {
          "data": {
            "text/plain": [
              "<bound method NDFrame.head of             Date Symbol Series  Prev Close     Open     High      Low  \\\n",
              "0     2000-01-03  WIPRO     EQ     2522.40  2724.00  2724.20  2724.00   \n",
              "1     2000-01-04  WIPRO     EQ     2724.20  2942.15  2942.15  2942.15   \n",
              "2     2000-01-05  WIPRO     EQ     2942.15  2942.15  3177.55  2715.00   \n",
              "3     2000-01-06  WIPRO     EQ     2990.10  3144.70  3183.00  2790.00   \n",
              "4     2000-01-07  WIPRO     EQ     2932.25  2751.00  2751.00  2697.70   \n",
              "...          ...    ...    ...         ...      ...      ...      ...   \n",
              "5301  2021-04-26  WIPRO     EQ      475.70   479.40   483.85   477.00   \n",
              "5302  2021-04-27  WIPRO     EQ      480.30   481.40   487.00   481.00   \n",
              "5303  2021-04-28  WIPRO     EQ      485.05   485.85   493.20   481.25   \n",
              "5304  2021-04-29  WIPRO     EQ      489.30   492.70   492.80   485.70   \n",
              "5305  2021-04-30  WIPRO     EQ      489.85   491.50   511.80   489.30   \n",
              "\n",
              "         Last    Close     VWAP    Volume      Turnover    Trades  \\\n",
              "0     2724.20  2724.20  2724.17      1599  4.355942e+11       NaN   \n",
              "1     2942.15  2942.15  2942.15      4392  1.292192e+12       NaN   \n",
              "2     3000.00  2990.10  3063.86    132297  4.053390e+13       NaN   \n",
              "3     2915.00  2932.25  2962.41     72840  2.157822e+13       NaN   \n",
              "4     2697.70  2697.70  2697.95     10110  2.727630e+12       NaN   \n",
              "...       ...      ...      ...       ...           ...       ...   \n",
              "5301   482.00   480.30   479.77   9314644  4.468927e+14   89443.0   \n",
              "5302   483.85   485.05   484.07   7209467  3.489910e+14  112831.0   \n",
              "5303   488.65   489.30   487.55   9615534  4.688083e+14  123736.0   \n",
              "5304   489.00   489.85   489.45   7641133  3.739989e+14   82446.0   \n",
              "5305   492.50   492.75   501.42  29115571  1.459925e+15  252478.0   \n",
              "\n",
              "      Deliverable Volume  %Deliverble  \n",
              "0                    NaN          NaN  \n",
              "1                    NaN          NaN  \n",
              "2                    NaN          NaN  \n",
              "3                    NaN          NaN  \n",
              "4                    NaN          NaN  \n",
              "...                  ...          ...  \n",
              "5301           3081057.0       0.3308  \n",
              "5302           2548269.0       0.3535  \n",
              "5303           3254249.0       0.3384  \n",
              "5304           2534352.0       0.3317  \n",
              "5305           5182914.0       0.1780  \n",
              "\n",
              "[5306 rows x 15 columns]>"
            ]
          },
          "execution_count": 6,
          "metadata": {},
          "output_type": "execute_result"
        }
      ],
      "source": [
        "df.head"
      ]
    },
    {
      "cell_type": "code",
      "execution_count": 4,
      "metadata": {
        "id": "8qeIVcXP3yRb"
      },
      "outputs": [],
      "source": [
        "data = df.filter(['Close'])\n",
        "dataset = data.values\n",
        "training_data_len = int(np.ceil(len(dataset) * 0.8))"
      ]
    },
    {
      "cell_type": "markdown",
      "metadata": {
        "id": "RS5oKBgj-HNR"
      },
      "source": [
        "Scalling The Data"
      ]
    },
    {
      "cell_type": "code",
      "execution_count": 5,
      "metadata": {
        "id": "R2ff_Iqh32h5"
      },
      "outputs": [],
      "source": [
        "Scale = MinMaxScaler(feature_range=(0, 1))\n",
        "scaled_data = Scale.fit_transform(dataset)"
      ]
    },
    {
      "cell_type": "markdown",
      "metadata": {
        "id": "0HqOyEdP-MMX"
      },
      "source": [
        "*Training Dataset*"
      ]
    },
    {
      "cell_type": "code",
      "execution_count": 6,
      "metadata": {
        "id": "mkvi-NZk35xs"
      },
      "outputs": [],
      "source": [
        "train_data = scaled_data[0:training_data_len, :]\n",
        "x_train = []\n",
        "y_train = []"
      ]
    },
    {
      "cell_type": "markdown",
      "metadata": {
        "id": "hz0MNXVf-SNw"
      },
      "source": [
        "Format for (Long Short-Term Memory) LSTM"
      ]
    },
    {
      "cell_type": "code",
      "execution_count": 7,
      "metadata": {
        "id": "nwZxbv_m361V"
      },
      "outputs": [],
      "source": [
        "for i in range(60, len(train_data)):\n",
        "    x_train.append(train_data[i - 60:i, 0])\n",
        "    y_train.append(train_data[i, 0])"
      ]
    },
    {
      "cell_type": "code",
      "execution_count": 8,
      "metadata": {
        "id": "ILczS7D639A6"
      },
      "outputs": [],
      "source": [
        "x_train, y_train = np.array(x_train), np.array(y_train)"
      ]
    },
    {
      "cell_type": "code",
      "execution_count": 9,
      "metadata": {
        "id": "BCNqyNQW4BAk"
      },
      "outputs": [],
      "source": [
        "x_train = np.reshape(x_train, (x_train.shape[0], x_train.shape[1], 1))"
      ]
    },
    {
      "cell_type": "markdown",
      "metadata": {
        "id": "FrrfOYU1-kPs"
      },
      "source": [
        "Building Model"
      ]
    },
    {
      "cell_type": "code",
      "execution_count": 10,
      "metadata": {
        "id": "Tc7XDUNN4C_w"
      },
      "outputs": [],
      "source": [
        "model = Sequential()\n",
        "model.add(LSTM(50, return_sequences=True, input_shape=(x_train.shape[1], 1)))\n",
        "model.add(LSTM(50, return_sequences=False))\n",
        "model.add(Dense(25))\n",
        "model.add(Dense(1))"
      ]
    },
    {
      "cell_type": "code",
      "execution_count": 11,
      "metadata": {
        "id": "UThelqjR4FvN"
      },
      "outputs": [],
      "source": [
        "model.compile(optimizer='adam', loss='mean_squared_error')"
      ]
    },
    {
      "cell_type": "markdown",
      "metadata": {
        "id": "WV-8gKCq-o_6"
      },
      "source": [
        "*Training* The Model"
      ]
    },
    {
      "cell_type": "code",
      "execution_count": 12,
      "metadata": {
        "colab": {
          "base_uri": "https://localhost:8080/"
        },
        "id": "tFVpiaiv4LYJ",
        "outputId": "ff20c8a5-a5f8-45bf-fa9f-2224b0f87538"
      },
      "outputs": [
        {
          "name": "stdout",
          "output_type": "stream",
          "text": [
            "Epoch 1/5\n",
            "4185/4185 [==============================] - 153s 35ms/step - loss: 2.4974e-04\n",
            "Epoch 2/5\n",
            "4185/4185 [==============================] - 149s 36ms/step - loss: 1.2307e-04\n",
            "Epoch 3/5\n",
            "4185/4185 [==============================] - 155s 37ms/step - loss: 8.4206e-05\n",
            "Epoch 4/5\n",
            "4185/4185 [==============================] - 160s 38ms/step - loss: 9.2128e-05\n",
            "Epoch 5/5\n",
            "4185/4185 [==============================] - 153s 37ms/step - loss: 6.6172e-05\n"
          ]
        },
        {
          "data": {
            "text/plain": [
              "<keras.callbacks.History at 0x181ad624340>"
            ]
          },
          "execution_count": 12,
          "metadata": {},
          "output_type": "execute_result"
        }
      ],
      "source": [
        "model.fit(x_train, y_train, batch_size=1, epochs=5)"
      ]
    },
    {
      "cell_type": "markdown",
      "metadata": {
        "id": "vo2TUnuS-uRT"
      },
      "source": [
        "\n",
        "*Testing Dataset*"
      ]
    },
    {
      "cell_type": "code",
      "execution_count": 13,
      "metadata": {
        "id": "w6pxxjZp4PEf"
      },
      "outputs": [],
      "source": [
        "tested_data = scaled_data[training_data_len - 60:, :]\n",
        "x_test = []\n",
        "y_test = dataset[training_data_len:, :]\n",
        "for i in range(60, len(tested_data)):\n",
        "    x_test.append(tested_data[i - 60:i, 0])"
      ]
    },
    {
      "cell_type": "code",
      "execution_count": 14,
      "metadata": {
        "id": "186smRNo4RUw"
      },
      "outputs": [],
      "source": [
        "x_test = np.array(x_test)"
      ]
    },
    {
      "cell_type": "code",
      "execution_count": 15,
      "metadata": {
        "id": "M4pk0ABw4Vgu"
      },
      "outputs": [],
      "source": [
        "x_test = np.reshape(x_test, (x_test.shape[0], x_test.shape[1], 1))"
      ]
    },
    {
      "cell_type": "code",
      "execution_count": 16,
      "metadata": {
        "colab": {
          "base_uri": "https://localhost:8080/"
        },
        "id": "uT3bVJYX4Wy2",
        "outputId": "a27c40f8-1d8a-40c1-ff19-d41da99affd7"
      },
      "outputs": [
        {
          "name": "stdout",
          "output_type": "stream",
          "text": [
            "34/34 [==============================] - 2s 21ms/step\n"
          ]
        }
      ],
      "source": [
        "predictions = model.predict(x_test)\n",
        "predictions = Scale.inverse_transform(predictions)"
      ]
    },
    {
      "cell_type": "markdown",
      "metadata": {
        "id": "mfs7KiP--625"
      },
      "source": [
        "Calculating Root Mean Square Error"
      ]
    },
    {
      "cell_type": "code",
      "execution_count": 17,
      "metadata": {
        "colab": {
          "base_uri": "https://localhost:8080/"
        },
        "id": "wLx0Y8Ze4a7F",
        "outputId": "d0fc63ab-1bb1-49ab-a567-a6c861a28661"
      },
      "outputs": [
        {
          "name": "stdout",
          "output_type": "stream",
          "text": [
            "Root Mean Squared Error: 13.967113156188333\n"
          ]
        }
      ],
      "source": [
        "rmse = np.sqrt(np.mean(predictions - y_test) ** 2)\n",
        "print('Root Mean Squared Error:', rmse)"
      ]
    },
    {
      "cell_type": "markdown",
      "metadata": {
        "id": "o6myRCoJ_BmW"
      },
      "source": [
        "Visualising The data"
      ]
    },
    {
      "cell_type": "code",
      "execution_count": 18,
      "metadata": {
        "colab": {
          "base_uri": "https://localhost:8080/",
          "height": 829
        },
        "id": "eoyZCDOr4dAA",
        "outputId": "da0cb367-36db-439d-943f-1b002a768bec"
      },
      "outputs": [
        {
          "name": "stderr",
          "output_type": "stream",
          "text": [
            "C:\\Users\\pc\\AppData\\Local\\Temp\\ipykernel_1028\\90838933.py:3: SettingWithCopyWarning: \n",
            "A value is trying to be set on a copy of a slice from a DataFrame.\n",
            "Try using .loc[row_indexer,col_indexer] = value instead\n",
            "\n",
            "See the caveats in the documentation: https://pandas.pydata.org/pandas-docs/stable/user_guide/indexing.html#returning-a-view-versus-a-copy\n",
            "  valid['Predictions'] = predictions\n"
          ]
        },
        {
          "data": {
            "image/png": "[encoded data removed]",
            "text/plain": [
              "<Figure size 1152x576 with 1 Axes>"
            ]
          },
          "metadata": {
            "needs_background": "light"
          },
          "output_type": "display_data"
        }
      ],
      "source": [
        "train = data[:training_data_len]\n",
        "valid = data[training_data_len:]\n",
        "valid['Predictions'] = predictions\n",
        "\n",
        "plt.figure(figsize=(16, 8))\n",
        "plt.title('Stock Price Prediction')\n",
        "plt.xlabel('Date')\n",
        "plt.ylabel('Close Price (USD)')\n",
        "plt.plot(train['Close'])\n",
        "plt.plot(valid[['Close', 'Predictions']])\n",
        "plt.legend(['Train', 'Actual', 'Predicted'], loc='lower right')\n",
        "plt.show()"
      ]
    },
    {
      "cell_type": "markdown",
      "metadata": {
        "id": "TRUoIIzj_FY9"
      },
      "source": [
        "END."
      ]
    }
  ],
  "metadata": {
    "colab": {
      "authorship_tag": "ABX9TyPs+xuufV+BI89YHZctR5Qb",
      "include_colab_link": true,
      "provenance": []
    },
    "kernelspec": {
      "display_name": "Python 3",
      "name": "python3"
    },
    "language_info": {
      "codemirror_mode": {
        "name": "ipython",
        "version": 3
      },
      "file_extension": ".py",
      "mimetype": "text/x-python",
      "name": "python",
      "nbconvert_exporter": "python",
      "pygments_lexer": "ipython3",
      "version": "3.10.5"
    }
  },
  "nbformat": 4,
  "nbformat_minor": 0
}
